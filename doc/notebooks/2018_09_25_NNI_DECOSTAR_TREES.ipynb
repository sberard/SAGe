{
 "cells": [
  {
   "cell_type": "markdown",
   "metadata": {},
   "source": [
    "# Generating tree pictures from  of the results of the NNI+DeCoSTAR experiments of July and August 2018\n",
    "Cedric Chauve, September 25, 2018"
   ]
  },
  {
   "cell_type": "code",
   "execution_count": 4,
   "metadata": {},
   "outputs": [],
   "source": [
    "#source activate py27\n",
    "import sys\n",
    "sys.path.append('../../scripts')\n",
    "import TreeConflict"
   ]
  },
  {
   "cell_type": "code",
   "execution_count": 5,
   "metadata": {},
   "outputs": [],
   "source": [
    "LAMBDA=['lambda_025','lambda_05','lambda_1','lambda_2','lambda_3','lambda_5','lambda_7','lambda_10','lambda_20','lambda_30','lambda_50']\n",
    "EXPS=['2018_07_15_D10T0L20I10T10_NNI_DECOSTAR','2018_07_16_D10T10L20I10T10_NNI_DECOSTAR','2018_07_25_D0T10L20I10T10_NNI_DECOSTAR',\n",
    "      '2018_08_09_D10T0L20I10T10_NNI_DECOSTAR_ST1','2018_08_09_D10T10L20I10T10_NNI_DECOSTAR_ST1','2018_08_09_D10T10L20I10T10_NNI_DECOSTAR_ST1']"
   ]
  },
  {
   "cell_type": "code",
   "execution_count": 6,
   "metadata": {},
   "outputs": [
    {
     "name": "stdout",
     "output_type": "stream",
     "text": [
      "2018_07_15_D10T0L20I10T10_NNI_DECOSTAR_lambda_025\n",
      "2018_07_15_D10T0L20I10T10_NNI_DECOSTAR_lambda_05\n",
      "2018_07_15_D10T0L20I10T10_NNI_DECOSTAR_lambda_1\n",
      "2018_07_15_D10T0L20I10T10_NNI_DECOSTAR_lambda_2\n",
      "2018_07_15_D10T0L20I10T10_NNI_DECOSTAR_lambda_3\n",
      "2018_07_15_D10T0L20I10T10_NNI_DECOSTAR_lambda_5\n",
      "2018_07_15_D10T0L20I10T10_NNI_DECOSTAR_lambda_7\n",
      "2018_07_15_D10T0L20I10T10_NNI_DECOSTAR_lambda_10\n",
      "2018_07_15_D10T0L20I10T10_NNI_DECOSTAR_lambda_20\n",
      "2018_07_15_D10T0L20I10T10_NNI_DECOSTAR_lambda_30\n",
      "2018_07_15_D10T0L20I10T10_NNI_DECOSTAR_lambda_50\n",
      "2018_07_16_D10T10L20I10T10_NNI_DECOSTAR_lambda_025\n",
      "2018_07_16_D10T10L20I10T10_NNI_DECOSTAR_lambda_05\n",
      "2018_07_16_D10T10L20I10T10_NNI_DECOSTAR_lambda_1\n",
      "2018_07_16_D10T10L20I10T10_NNI_DECOSTAR_lambda_2\n",
      "2018_07_16_D10T10L20I10T10_NNI_DECOSTAR_lambda_3\n",
      "2018_07_16_D10T10L20I10T10_NNI_DECOSTAR_lambda_5\n",
      "2018_07_16_D10T10L20I10T10_NNI_DECOSTAR_lambda_7\n",
      "2018_07_16_D10T10L20I10T10_NNI_DECOSTAR_lambda_10\n",
      "2018_07_16_D10T10L20I10T10_NNI_DECOSTAR_lambda_20\n",
      "2018_07_16_D10T10L20I10T10_NNI_DECOSTAR_lambda_30\n",
      "2018_07_16_D10T10L20I10T10_NNI_DECOSTAR_lambda_50\n",
      "2018_07_25_D0T10L20I10T10_NNI_DECOSTAR_lambda_025\n",
      "2018_07_25_D0T10L20I10T10_NNI_DECOSTAR_lambda_05\n",
      "2018_07_25_D0T10L20I10T10_NNI_DECOSTAR_lambda_1\n",
      "2018_07_25_D0T10L20I10T10_NNI_DECOSTAR_lambda_2\n",
      "2018_07_25_D0T10L20I10T10_NNI_DECOSTAR_lambda_3\n",
      "2018_07_25_D0T10L20I10T10_NNI_DECOSTAR_lambda_5\n",
      "2018_07_25_D0T10L20I10T10_NNI_DECOSTAR_lambda_7\n",
      "2018_07_25_D0T10L20I10T10_NNI_DECOSTAR_lambda_10\n",
      "2018_07_25_D0T10L20I10T10_NNI_DECOSTAR_lambda_20\n",
      "2018_07_25_D0T10L20I10T10_NNI_DECOSTAR_lambda_30\n",
      "2018_07_25_D0T10L20I10T10_NNI_DECOSTAR_lambda_50\n",
      "2018_08_09_D10T0L20I10T10_NNI_DECOSTAR_ST1_lambda_025\n",
      "2018_08_09_D10T0L20I10T10_NNI_DECOSTAR_ST1_lambda_05\n",
      "2018_08_09_D10T0L20I10T10_NNI_DECOSTAR_ST1_lambda_1\n",
      "2018_08_09_D10T0L20I10T10_NNI_DECOSTAR_ST1_lambda_2\n",
      "2018_08_09_D10T0L20I10T10_NNI_DECOSTAR_ST1_lambda_3\n",
      "2018_08_09_D10T0L20I10T10_NNI_DECOSTAR_ST1_lambda_5\n",
      "2018_08_09_D10T0L20I10T10_NNI_DECOSTAR_ST1_lambda_7\n",
      "2018_08_09_D10T0L20I10T10_NNI_DECOSTAR_ST1_lambda_10\n",
      "2018_08_09_D10T0L20I10T10_NNI_DECOSTAR_ST1_lambda_20\n",
      "2018_08_09_D10T0L20I10T10_NNI_DECOSTAR_ST1_lambda_30\n",
      "2018_08_09_D10T0L20I10T10_NNI_DECOSTAR_ST1_lambda_50\n",
      "2018_08_09_D10T10L20I10T10_NNI_DECOSTAR_ST1_lambda_025\n",
      "2018_08_09_D10T10L20I10T10_NNI_DECOSTAR_ST1_lambda_05\n",
      "2018_08_09_D10T10L20I10T10_NNI_DECOSTAR_ST1_lambda_1\n",
      "2018_08_09_D10T10L20I10T10_NNI_DECOSTAR_ST1_lambda_2\n",
      "2018_08_09_D10T10L20I10T10_NNI_DECOSTAR_ST1_lambda_3\n",
      "2018_08_09_D10T10L20I10T10_NNI_DECOSTAR_ST1_lambda_5\n",
      "2018_08_09_D10T10L20I10T10_NNI_DECOSTAR_ST1_lambda_7\n",
      "2018_08_09_D10T10L20I10T10_NNI_DECOSTAR_ST1_lambda_10\n",
      "2018_08_09_D10T10L20I10T10_NNI_DECOSTAR_ST1_lambda_20\n",
      "2018_08_09_D10T10L20I10T10_NNI_DECOSTAR_ST1_lambda_30\n",
      "2018_08_09_D10T10L20I10T10_NNI_DECOSTAR_ST1_lambda_50\n",
      "2018_08_09_D10T10L20I10T10_NNI_DECOSTAR_ST1_lambda_025\n",
      "2018_08_09_D10T10L20I10T10_NNI_DECOSTAR_ST1_lambda_05\n",
      "2018_08_09_D10T10L20I10T10_NNI_DECOSTAR_ST1_lambda_1\n",
      "2018_08_09_D10T10L20I10T10_NNI_DECOSTAR_ST1_lambda_2\n",
      "2018_08_09_D10T10L20I10T10_NNI_DECOSTAR_ST1_lambda_3\n",
      "2018_08_09_D10T10L20I10T10_NNI_DECOSTAR_ST1_lambda_5\n",
      "2018_08_09_D10T10L20I10T10_NNI_DECOSTAR_ST1_lambda_7\n",
      "2018_08_09_D10T10L20I10T10_NNI_DECOSTAR_ST1_lambda_10\n",
      "2018_08_09_D10T10L20I10T10_NNI_DECOSTAR_ST1_lambda_20\n",
      "2018_08_09_D10T10L20I10T10_NNI_DECOSTAR_ST1_lambda_30\n",
      "2018_08_09_D10T10L20I10T10_NNI_DECOSTAR_ST1_lambda_50\n"
     ]
    }
   ],
   "source": [
    "for exp in EXPS:\n",
    "    for l in LAMBDA:\n",
    "        print(exp+'_'+l)\n",
    "        IN_PREF='../../exp/'+exp+'/results/DeCoSTAR/'+l+'/'+l\n",
    "        OUT_PREF=exp+'_'+l+'_tree'\n",
    "        TreeConflict.CreateConflictGraphics(IN_PREF,OUT_PREF)"
   ]
  },
  {
   "cell_type": "code",
   "execution_count": null,
   "metadata": {},
   "outputs": [],
   "source": []
  }
 ],
 "metadata": {
  "kernelspec": {
   "display_name": "Python [conda env:py27]",
   "language": "python",
   "name": "conda-env-py27-py"
  },
  "language_info": {
   "codemirror_mode": {
    "name": "ipython",
    "version": 2
   },
   "file_extension": ".py",
   "mimetype": "text/x-python",
   "name": "python",
   "nbconvert_exporter": "python",
   "pygments_lexer": "ipython2",
   "version": "2.7.15"
  }
 },
 "nbformat": 4,
 "nbformat_minor": 2
}
