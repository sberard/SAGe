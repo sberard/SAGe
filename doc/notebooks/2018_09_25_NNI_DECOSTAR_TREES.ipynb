{
 "cells": [
  {
   "cell_type": "markdown",
   "metadata": {},
   "source": [
    "# Generating tree pictures from  of the results of the NNI+DeCoSTAR experiments of July and August 2018\n",
    "Cedric Chauve, September 25, 2018"
   ]
  },
  {
   "cell_type": "code",
   "execution_count": 11,
   "metadata": {},
   "outputs": [],
   "source": [
    "import sys\n",
    "sys.path.append('../../scripts')\n",
    "import TreeConflict"
   ]
  },
  {
   "cell_type": "code",
   "execution_count": 18,
   "metadata": {},
   "outputs": [],
   "source": [
    "LAMBDA=['lambda_025','lambda_05','lambda_1','lambda_2','lambda_3','lambda_5','lambda_7','lambda_10','lambda_20','lambda_30','lambda_50']\n",
    "EXPS=['2018_07_15_D10T0L20I10T10_NNI_DECOSTAR','2018_07_16_D10T10L20I10T10_NNI_DECOSTAR','2018_07_25_D0T10L20I10T10_NNI_DECOSTAR',\n",
    "      '2018_08_09_D10T0L20I10T10_NNI_DECOSTAR_ST1','2018_08_09_D10T10L20I10T10_NNI_DECOSTAR_ST1','2018_08_09_D10T10L20I10T10_NNI_DECOSTAR_ST1']"
   ]
  },
  {
   "cell_type": "code",
   "execution_count": 22,
   "metadata": {},
   "outputs": [
    {
     "name": "stdout",
     "output_type": "stream",
     "text": [
      "2018_07_15_D10T0L20I10T10_NNI_DECOSTAR_lambda_025\n",
      "2018_07_15_D10T0L20I10T10_NNI_DECOSTAR_lambda_05\n",
      "2018_07_15_D10T0L20I10T10_NNI_DECOSTAR_lambda_1\n",
      "2018_07_15_D10T0L20I10T10_NNI_DECOSTAR_lambda_2\n",
      "2018_07_15_D10T0L20I10T10_NNI_DECOSTAR_lambda_3\n",
      "2018_07_15_D10T0L20I10T10_NNI_DECOSTAR_lambda_5\n",
      "2018_07_15_D10T0L20I10T10_NNI_DECOSTAR_lambda_7\n",
      "2018_07_15_D10T0L20I10T10_NNI_DECOSTAR_lambda_10\n",
      "2018_07_15_D10T0L20I10T10_NNI_DECOSTAR_lambda_20\n",
      "2018_07_15_D10T0L20I10T10_NNI_DECOSTAR_lambda_30\n",
      "2018_07_15_D10T0L20I10T10_NNI_DECOSTAR_lambda_50\n",
      "2018_07_16_D10T10L20I10T10_NNI_DECOSTAR_lambda_025\n"
     ]
    },
    {
     "ename": "KeyError",
     "evalue": "'52'",
     "output_type": "error",
     "traceback": [
      "\u001b[0;31m---------------------------------------------------------------------------\u001b[0m",
      "\u001b[0;31mKeyError\u001b[0m                                  Traceback (most recent call last)",
      "\u001b[0;32m<ipython-input-22-b69023c32e7e>\u001b[0m in \u001b[0;36m<module>\u001b[0;34m()\u001b[0m\n\u001b[1;32m      4\u001b[0m         \u001b[0mIN_PREF\u001b[0m\u001b[0;34m=\u001b[0m\u001b[0;34m'../../exp/'\u001b[0m\u001b[0;34m+\u001b[0m\u001b[0mexp\u001b[0m\u001b[0;34m+\u001b[0m\u001b[0;34m'/results/DeCoSTAR/'\u001b[0m\u001b[0;34m+\u001b[0m\u001b[0ml\u001b[0m\u001b[0;34m+\u001b[0m\u001b[0;34m'/'\u001b[0m\u001b[0;34m+\u001b[0m\u001b[0ml\u001b[0m\u001b[0;34m\u001b[0m\u001b[0m\n\u001b[1;32m      5\u001b[0m         \u001b[0mOUT_PREF\u001b[0m\u001b[0;34m=\u001b[0m\u001b[0mexp\u001b[0m\u001b[0;34m+\u001b[0m\u001b[0;34m'_'\u001b[0m\u001b[0;34m+\u001b[0m\u001b[0ml\u001b[0m\u001b[0;34m+\u001b[0m\u001b[0;34m'_tree'\u001b[0m\u001b[0;34m\u001b[0m\u001b[0m\n\u001b[0;32m----> 6\u001b[0;31m         \u001b[0mTreeConflict\u001b[0m\u001b[0;34m.\u001b[0m\u001b[0mConflictGraphics\u001b[0m\u001b[0;34m(\u001b[0m\u001b[0mIN_PREF\u001b[0m\u001b[0;34m,\u001b[0m\u001b[0mOUT_PREF\u001b[0m\u001b[0;34m)\u001b[0m\u001b[0;34m\u001b[0m\u001b[0m\n\u001b[0m",
      "\u001b[0;32m/home/cchauve/Desktop/SAGe/scripts/TreeConflict.py\u001b[0m in \u001b[0;36mConflictGraphics\u001b[0;34m(PREFIX, OUT_PREFIX)\u001b[0m\n\u001b[1;32m     78\u001b[0m         \u001b[0;32melse\u001b[0m\u001b[0;34m:\u001b[0m\u001b[0;34m\u001b[0m\u001b[0m\n\u001b[1;32m     79\u001b[0m             \u001b[0mspecies\u001b[0m \u001b[0;34m=\u001b[0m \u001b[0mwords\u001b[0m\u001b[0;34m[\u001b[0m\u001b[0;36m0\u001b[0m\u001b[0;34m]\u001b[0m\u001b[0;34m\u001b[0m\u001b[0m\n\u001b[0;32m---> 80\u001b[0;31m         \u001b[0mall_species\u001b[0m\u001b[0;34m[\u001b[0m\u001b[0mspecies\u001b[0m\u001b[0;34m]\u001b[0m\u001b[0;34m[\u001b[0m\u001b[0mwords\u001b[0m\u001b[0;34m[\u001b[0m\u001b[0;36m1\u001b[0m\u001b[0;34m]\u001b[0m\u001b[0;34m]\u001b[0m \u001b[0;34m=\u001b[0m \u001b[0;34m[\u001b[0m\u001b[0;34m]\u001b[0m\u001b[0;34m\u001b[0m\u001b[0m\n\u001b[0m\u001b[1;32m     81\u001b[0m \u001b[0;34m\u001b[0m\u001b[0m\n\u001b[1;32m     82\u001b[0m     \u001b[0;32mfor\u001b[0m \u001b[0mline\u001b[0m \u001b[0;32min\u001b[0m \u001b[0madjacencies\u001b[0m\u001b[0;34m:\u001b[0m\u001b[0;34m\u001b[0m\u001b[0m\n",
      "\u001b[0;31mKeyError\u001b[0m: '52'"
     ]
    }
   ],
   "source": [
    "for exp in EXPS:\n",
    "    for l in LAMBDA:\n",
    "        print(exp+'_'+l)\n",
    "        IN_PREF='../../exp/'+exp+'/results/DeCoSTAR/'+l+'/'+l\n",
    "        OUT_PREF=exp+'_'+l+'_tree'\n",
    "        TreeConflict.ConflictGraphics(IN_PREF,OUT_PREF)"
   ]
  },
  {
   "cell_type": "code",
   "execution_count": null,
   "metadata": {},
   "outputs": [],
   "source": []
  }
 ],
 "metadata": {
  "kernelspec": {
   "display_name": "Python [conda env:py27]",
   "language": "python",
   "name": "conda-env-py27-py"
  },
  "language_info": {
   "codemirror_mode": {
    "name": "ipython",
    "version": 2
   },
   "file_extension": ".py",
   "mimetype": "text/x-python",
   "name": "python",
   "nbconvert_exporter": "python",
   "pygments_lexer": "ipython2",
   "version": "2.7.15"
  }
 },
 "nbformat": 4,
 "nbformat_minor": 2
}
